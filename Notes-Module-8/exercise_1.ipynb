{
 "cells": [
  {
   "cell_type": "code",
   "execution_count": 7,
   "metadata": {},
   "outputs": [],
   "source": [
    "# import libraries\n",
    "import pandas as pd\n",
    "from sklearn import linear_model\n",
    "from matplotlib import pyplot as plt\n",
    "\n",
    "# inline plots\n",
    "%matplotlib inline"
   ]
  },
  {
   "cell_type": "markdown",
   "metadata": {},
   "source": [
    "[Click Here to go to scikit-learn Linear Models Module](https://scikit-learn.org/stable/modules/classes.html#module-sklearn.linear_model)"
   ]
  },
  {
   "cell_type": "markdown",
   "metadata": {},
   "source": [
    "# Data"
   ]
  },
  {
   "cell_type": "code",
   "execution_count": 8,
   "metadata": {},
   "outputs": [
    {
     "name": "stdout",
     "output_type": "stream",
     "text": [
      "   id         x         y\n",
      "0   0  0.000000  0.286233\n",
      "1   1  0.111111  0.704653\n",
      "2   2  0.222222  0.822226\n",
      "3   3  0.333333  1.212489\n",
      "4   4  0.444444  1.282596\n",
      "5   5  0.555556  1.269289\n",
      "6   6  0.666667  1.446049\n",
      "7   7  0.777778  1.731309\n",
      "8   8  0.888889  2.108201\n",
      "9   9  1.000000  1.959011\n"
     ]
    }
   ],
   "source": [
    "# read traning data\n",
    "df_train = pd.read_csv(\"exercise_1_training.csv\")\n",
    "\n",
    "# print the dataframe\n",
    "print(df_train)"
   ]
  },
  {
   "cell_type": "code",
   "execution_count": 9,
   "metadata": {},
   "outputs": [
    {
     "name": "stdout",
     "output_type": "stream",
     "text": [
      "x=\n",
      " [[0.        ]\n",
      " [0.11111111]\n",
      " [0.22222222]\n",
      " [0.33333333]\n",
      " [0.44444444]\n",
      " [0.55555556]\n",
      " [0.66666667]\n",
      " [0.77777778]\n",
      " [0.88888889]\n",
      " [1.        ]]\n",
      "y=\n",
      " [0.28623311 0.7046529  0.82222593 1.21248852 1.28259602 1.26928897\n",
      " 1.44604883 1.73130945 2.10820057 1.95901137]\n"
     ]
    }
   ],
   "source": [
    "# create the input and output attributes\n",
    "inp_attr = df_train['x'].values.reshape(-1, 1) \n",
    "out_attr = df_train['y'].values\n",
    "\n",
    "print('x=\\n', inp_attr)\n",
    "print('y=\\n', out_attr)"
   ]
  },
  {
   "cell_type": "code",
   "execution_count": 10,
   "metadata": {},
   "outputs": [
    {
     "data": {
      "text/plain": [
       "Text(0, 0.5, 'y')"
      ]
     },
     "execution_count": 10,
     "metadata": {},
     "output_type": "execute_result"
    },
    {
     "data": {
      "image/png": "[encoded data removed]",
      "text/plain": [
       "<Figure size 432x288 with 1 Axes>"
      ]
     },
     "metadata": {
      "needs_background": "light"
     },
     "output_type": "display_data"
    }
   ],
   "source": [
    "# show y vs x graph\n",
    "plt.scatter(inp_attr, out_attr)\n",
    "plt.xlabel('x')\n",
    "plt.ylabel('y')"
   ]
  },
  {
   "cell_type": "markdown",
   "metadata": {},
   "source": [
    "# Model Building"
   ]
  },
  {
   "cell_type": "markdown",
   "metadata": {},
   "source": [
    "[Click Here to go to scikit-learn Linear Regression Reference](https://scikit-learn.org/stable/modules/generated/sklearn.linear_model.LinearRegression.html)"
   ]
  },
  {
   "cell_type": "code",
   "execution_count": 14,
   "metadata": {},
   "outputs": [],
   "source": [
    "# create a linear model with intercept\n",
    "#w0 = the intercept\n",
    "#w1 = the coefficient of the model\n",
    "ols = linear_model.LinearRegression(fit_intercept=True) #intercept "
   ]
  },
  {
   "cell_type": "code",
   "execution_count": 15,
   "metadata": {},
   "outputs": [
    {
     "ename": "AttributeError",
     "evalue": "'LinearRegression' object has no attribute 'intercept_'",
     "output_type": "error",
     "traceback": [
      "\u001b[0;31m---------------------------------------------------------------------------\u001b[0m",
      "\u001b[0;31mAttributeError\u001b[0m                            Traceback (most recent call last)",
      "\u001b[0;32m<ipython-input-15-7c9cc2bc46df>\u001b[0m in \u001b[0;36m<module>\u001b[0;34m\u001b[0m\n\u001b[1;32m      2\u001b[0m \u001b[0;31m# Note - that we will get an ERROR because the coefficients have not been determined yet\u001b[0m\u001b[0;34m\u001b[0m\u001b[0;34m\u001b[0m\u001b[0;34m\u001b[0m\u001b[0m\n\u001b[1;32m      3\u001b[0m \u001b[0;31m#        we need to optimize them using the training data\u001b[0m\u001b[0;34m\u001b[0m\u001b[0;34m\u001b[0m\u001b[0;34m\u001b[0m\u001b[0m\n\u001b[0;32m----> 4\u001b[0;31m \u001b[0mprint\u001b[0m\u001b[0;34m(\u001b[0m\u001b[0;34m'w0 = '\u001b[0m\u001b[0;34m,\u001b[0m \u001b[0mols\u001b[0m\u001b[0;34m.\u001b[0m\u001b[0mintercept_\u001b[0m\u001b[0;34m)\u001b[0m\u001b[0;34m\u001b[0m\u001b[0;34m\u001b[0m\u001b[0m\n\u001b[0m\u001b[1;32m      5\u001b[0m \u001b[0mprint\u001b[0m\u001b[0;34m(\u001b[0m\u001b[0;34m'w1 = '\u001b[0m\u001b[0;34m,\u001b[0m \u001b[0mols\u001b[0m\u001b[0;34m.\u001b[0m\u001b[0mcoef_\u001b[0m\u001b[0;34m)\u001b[0m\u001b[0;34m\u001b[0m\u001b[0;34m\u001b[0m\u001b[0m\n",
      "\u001b[0;31mAttributeError\u001b[0m: 'LinearRegression' object has no attribute 'intercept_'"
     ]
    }
   ],
   "source": [
    "# inspect the coefficients after creating the linear regression object\n",
    "# Note - that we will get an ERROR because the coefficients have not been determined yet\n",
    "#        we need to optimize them using the training data\n",
    "print('w0 = ', ols.intercept_)\n",
    "print('w1 = ', ols.coef_)\n",
    "\n",
    "# need to fit tthe model using the dataset"
   ]
  },
  {
   "cell_type": "code",
   "execution_count": 16,
   "metadata": {},
   "outputs": [
    {
     "name": "stdout",
     "output_type": "stream",
     "text": [
      "w0 =  0.4609520342589567\n",
      "w1 =  [1.64250707]\n"
     ]
    }
   ],
   "source": [
    "# traing the linear model using traning data\n",
    "# training model only takes 1 line of code - finds the parameters of our model\n",
    "ols.fit(inp_attr, out_attr)\n",
    "\n",
    "# inspect coefficients after fitting\n",
    "# Note - after training the coefficients have been determined and there is no error here\n",
    "# we found our coefficients!\n",
    "print('w0 = ', ols.intercept_)\n",
    "print('w1 = ', ols.coef_)"
   ]
  },
  {
   "cell_type": "code",
   "execution_count": 17,
   "metadata": {},
   "outputs": [
    {
     "name": "stdout",
     "output_type": "stream",
     "text": [
      "Linear regression predictions\n",
      "[0.46095203 0.64345282 0.8259536  1.00845439 1.19095517 1.37345596\n",
      " 1.55595675 1.73845753 1.92095832 2.1034591 ]\n",
      "Actual data\n",
      "[0.28623311 0.7046529  0.82222593 1.21248852 1.28259602 1.26928897\n",
      " 1.44604883 1.73130945 2.10820057 1.95901137]\n"
     ]
    }
   ],
   "source": [
    "# now we can make predictions using this model\n",
    "# predict back the training data using predict function and input attributes\n",
    "train_pred = ols.predict(inp_attr)\n",
    "\n",
    "#output the predictions our model made\n",
    "print('Linear regression predictions')\n",
    "print(train_pred)\n",
    "\n",
    "#output the actual value\n",
    "print('Actual data')\n",
    "print(out_attr)"
   ]
  },
  {
   "cell_type": "code",
   "execution_count": 18,
   "metadata": {},
   "outputs": [
    {
     "data": {
      "image/png": "[encoded data removed]",
      "text/plain": [
       "<Figure size 432x288 with 1 Axes>"
      ]
     },
     "metadata": {
      "needs_background": "light"
     },
     "output_type": "display_data"
    }
   ],
   "source": [
    "# predicted vs actual plot\n",
    "plt.scatter(out_attr, train_pred)\n",
    "plt.plot([0,2.5],[0,2.5],'r-', linewidth=2)\n",
    "plt.xlabel('actual target')\n",
    "plt.ylabel('predicted target')\n",
    "plt.title('predicted vs actual')\n",
    "plt.show()"
   ]
  },
  {
   "cell_type": "markdown",
   "metadata": {},
   "source": [
    "# Model Use"
   ]
  },
  {
   "cell_type": "code",
   "execution_count": 22,
   "metadata": {},
   "outputs": [
    {
     "name": "stdout",
     "output_type": "stream",
     "text": [
      "   id    x\n",
      "0  10  1.4\n"
     ]
    }
   ],
   "source": [
    "# read testing data usind pandas\n",
    "df_pred = pd.read_csv(\"exercise_1_prediction.csv\")\n",
    "\n",
    "# print the dataframe\n",
    "print(df_pred)"
   ]
  },
  {
   "cell_type": "code",
   "execution_count": 23,
   "metadata": {},
   "outputs": [
    {
     "name": "stdout",
     "output_type": "stream",
     "text": [
      "y(x= [1.4] )= [2.76046193]\n"
     ]
    }
   ],
   "source": [
    "# predict at the new input\n",
    "test_pred = ols.predict(df_pred['x'].values.reshape(-1, 1))\n",
    "\n",
    "print('y(x=',df_pred['x'].values,')=', test_pred)"
   ]
  },
  {
   "cell_type": "code",
   "execution_count": 21,
   "metadata": {},
   "outputs": [
    {
     "ename": "NameError",
     "evalue": "name 'test_pred' is not defined",
     "output_type": "error",
     "traceback": [
      "\u001b[0;31m---------------------------------------------------------------------------\u001b[0m",
      "\u001b[0;31mNameError\u001b[0m                                 Traceback (most recent call last)",
      "\u001b[0;32m<ipython-input-21-4975a302410d>\u001b[0m in \u001b[0;36m<module>\u001b[0;34m\u001b[0m\n\u001b[1;32m      1\u001b[0m \u001b[0;31m# show the new prediction !\u001b[0m\u001b[0;34m\u001b[0m\u001b[0;34m\u001b[0m\u001b[0;34m\u001b[0m\u001b[0m\n\u001b[1;32m      2\u001b[0m \u001b[0mplt\u001b[0m\u001b[0;34m.\u001b[0m\u001b[0mscatter\u001b[0m\u001b[0;34m(\u001b[0m\u001b[0minp_attr\u001b[0m\u001b[0;34m,\u001b[0m \u001b[0mout_attr\u001b[0m\u001b[0;34m)\u001b[0m\u001b[0;34m\u001b[0m\u001b[0;34m\u001b[0m\u001b[0m\n\u001b[0;32m----> 3\u001b[0;31m \u001b[0mplt\u001b[0m\u001b[0;34m.\u001b[0m\u001b[0mplot\u001b[0m\u001b[0;34m(\u001b[0m\u001b[0mdf_pred\u001b[0m\u001b[0;34m[\u001b[0m\u001b[0;34m'x'\u001b[0m\u001b[0;34m]\u001b[0m\u001b[0;34m.\u001b[0m\u001b[0mvalues\u001b[0m\u001b[0;34m,\u001b[0m \u001b[0mtest_pred\u001b[0m\u001b[0;34m,\u001b[0m \u001b[0;34m'r*'\u001b[0m\u001b[0;34m)\u001b[0m\u001b[0;34m\u001b[0m\u001b[0;34m\u001b[0m\u001b[0m\n\u001b[0m\u001b[1;32m      4\u001b[0m \u001b[0mplt\u001b[0m\u001b[0;34m.\u001b[0m\u001b[0mxlabel\u001b[0m\u001b[0;34m(\u001b[0m\u001b[0;34m'x'\u001b[0m\u001b[0;34m)\u001b[0m\u001b[0;34m\u001b[0m\u001b[0;34m\u001b[0m\u001b[0m\n\u001b[1;32m      5\u001b[0m \u001b[0mplt\u001b[0m\u001b[0;34m.\u001b[0m\u001b[0mylabel\u001b[0m\u001b[0;34m(\u001b[0m\u001b[0;34m'y'\u001b[0m\u001b[0;34m)\u001b[0m\u001b[0;34m\u001b[0m\u001b[0;34m\u001b[0m\u001b[0m\n",
      "\u001b[0;31mNameError\u001b[0m: name 'test_pred' is not defined"
     ]
    },
    {
     "data": {
      "image/png": "[encoded data removed]",
      "text/plain": [
       "<Figure size 432x288 with 1 Axes>"
      ]
     },
     "metadata": {
      "needs_background": "light"
     },
     "output_type": "display_data"
    }
   ],
   "source": [
    "# show the new prediction !\n",
    "plt.scatter(inp_attr, out_attr)\n",
    "plt.plot(df_pred['x'].values, test_pred, 'r*')\n",
    "plt.xlabel('x')\n",
    "plt.ylabel('y')\n",
    "plt.show()"
   ]
  },
  {
   "cell_type": "code",
   "execution_count": null,
   "metadata": {},
   "outputs": [],
   "source": []
  }
 ],
 "metadata": {
  "kernelspec": {
   "display_name": "Python 3",
   "language": "python",
   "name": "python3"
  },
  "language_info": {
   "codemirror_mode": {
    "name": "ipython",
    "version": 3
   },
   "file_extension": ".py",
   "mimetype": "text/x-python",
   "name": "python",
   "nbconvert_exporter": "python",
   "pygments_lexer": "ipython3",
   "version": "3.8.2"
  }
 },
 "nbformat": 4,
 "nbformat_minor": 4
}

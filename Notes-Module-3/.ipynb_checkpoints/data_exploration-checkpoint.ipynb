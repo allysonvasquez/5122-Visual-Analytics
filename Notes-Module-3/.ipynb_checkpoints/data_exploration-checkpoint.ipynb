{
 "cells": [
  {
   "cell_type": "code",
   "execution_count": 5,
   "metadata": {},
   "outputs": [],
   "source": [
    "# !pip install witwidget\n",
    "# !jupyter labextension install wit-widget\n",
    "# !jupyter labextension install @jupyter-widgets/jupyterlab-manager\n",
    "# !pip install pandas-profiling\n",
    "### You need to restart JupyterLab after this "
   ]
  },
  {
   "cell_type": "code",
   "execution_count": 1,
   "metadata": {},
   "outputs": [],
   "source": [
    "import pandas as pd\n",
    "from pandas_profiling import ProfileReport\n",
    "\n",
    "# Enable inline plotting\n",
    "%matplotlib inline"
   ]
  },
  {
   "cell_type": "code",
   "execution_count": 2,
   "metadata": {},
   "outputs": [
    {
     "name": "stderr",
     "output_type": "stream",
     "text": [
      "Summarize dataset:  62%|██████▏   | 13/21 [00:01<00:01,  7.67it/s, Calculate kendall correlation]    /Library/Frameworks/Python.framework/Versions/3.8/lib/python3.8/site-packages/scipy/stats/stats.py:4812: RuntimeWarning: overflow encountered in long_scalars\n",
      "  (2 * xtie * ytie) / m + x0 * y0 / (9 * m * (size - 2)))\n",
      "Summarize dataset: 100%|██████████| 123/123 [00:40<00:00,  3.07it/s, Completed]                                \n",
      "Generate report structure: 100%|██████████| 1/1 [00:06<00:00,  6.06s/it]\n",
      "Render HTML: 100%|██████████| 1/1 [00:03<00:00,  3.99s/it]\n",
      "Export report to file: 100%|██████████| 1/1 [00:00<00:00, 39.73it/s]\n"
     ]
    }
   ],
   "source": [
    "# read traning data\n",
    "df_elect = pd.read_csv('train_electricity.csv', index_col='Date')\n",
    "\n",
    "# create a pandas-profiling report\n",
    "profile_elect = ProfileReport(df_elect, title='Electricity Report')\n",
    "profile_elect.to_file(\"electricity_report.html\")"
   ]
  },
  {
   "cell_type": "code",
   "execution_count": 3,
   "metadata": {},
   "outputs": [
    {
     "name": "stderr",
     "output_type": "stream",
     "text": [
      "Summarize dataset: 100%|██████████| 27/27 [00:05<00:00,  5.30it/s, Completed]                    \n",
      "Generate report structure: 100%|██████████| 1/1 [00:02<00:00,  2.15s/it]\n",
      "Render HTML: 100%|██████████| 1/1 [00:00<00:00,  1.97it/s]\n",
      "Export report to file: 100%|██████████| 1/1 [00:00<00:00, 265.13it/s]\n"
     ]
    }
   ],
   "source": [
    "# read temperature data\n",
    "df_temp = pd.read_csv('temp_OTP.csv', index_col='DATE')\n",
    "\n",
    "# create a pandas-profiling report\n",
    "profile_temp = ProfileReport(df_temp, title='Temperature Report')\n",
    "profile_temp.to_file(\"temperature_report.html\")"
   ]
  },
  {
   "cell_type": "code",
   "execution_count": null,
   "metadata": {},
   "outputs": [],
   "source": []
  }
 ],
 "metadata": {
  "kernelspec": {
   "display_name": "Python 3",
   "language": "python",
   "name": "python3"
  },
  "language_info": {
   "codemirror_mode": {
    "name": "ipython",
    "version": 3
   },
   "file_extension": ".py",
   "mimetype": "text/x-python",
   "name": "python",
   "nbconvert_exporter": "python",
   "pygments_lexer": "ipython3",
   "version": "3.8.2"
  }
 },
 "nbformat": 4,
 "nbformat_minor": 4
}
